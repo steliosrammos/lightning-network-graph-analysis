{
 "cells": [
  {
   "cell_type": "markdown",
   "metadata": {},
   "source": [
    "# Convert LN JSON graph data to Pandas DataFrame"
   ]
  },
  {
   "cell_type": "code",
   "execution_count": 1,
   "metadata": {},
   "outputs": [],
   "source": [
    "import pandas as pd\n",
    "import json\n",
    "from pandas.io.json import json_normalize\n",
    "\n",
    "def convert_ln_json_to_df(json_file_path):\n",
    "    \n",
    "    graph_path = open(json_file_path)\n",
    "    graph_json = json.load(graph_path)\n",
    "    \n",
    "    df_nodes = json_normalize(graph_json['nodes'])\n",
    "    \n",
    "    df_channels = json_normalize(graph_json['edges'])\n",
    "    df_channels.channel_id = df_channels.capacity.astype(int)\n",
    "    df_channels.capacity = df_channels.capacity.astype(int)\n",
    "    \n",
    "    return df_nodes, df_channels\n",
    "\n",
    "lngraph_path = 'lngraph.json'\n",
    "\n",
    "df_nodes, df_channels = convert_ln_json_to_df(lngraph_path)"
   ]
  },
  {
   "cell_type": "code",
   "execution_count": 2,
   "metadata": {},
   "outputs": [
    {
     "data": {
      "text/html": [
       "<div>\n",
       "<style scoped>\n",
       "    .dataframe tbody tr th:only-of-type {\n",
       "        vertical-align: middle;\n",
       "    }\n",
       "\n",
       "    .dataframe tbody tr th {\n",
       "        vertical-align: top;\n",
       "    }\n",
       "\n",
       "    .dataframe thead th {\n",
       "        text-align: right;\n",
       "    }\n",
       "</style>\n",
       "<table border=\"1\" class=\"dataframe\">\n",
       "  <thead>\n",
       "    <tr style=\"text-align: right;\">\n",
       "      <th></th>\n",
       "      <th>last_update</th>\n",
       "      <th>pub_key</th>\n",
       "      <th>alias</th>\n",
       "      <th>addresses</th>\n",
       "      <th>color</th>\n",
       "    </tr>\n",
       "  </thead>\n",
       "  <tbody>\n",
       "    <tr>\n",
       "      <th>0</th>\n",
       "      <td>1573030306</td>\n",
       "      <td>0200072fd301cb4a680f26d87c28b705ccd6a1d5b00f1b...</td>\n",
       "      <td>OutaSpace 🚀</td>\n",
       "      <td>[{'network': 'tcp', 'addr': '46.163.78.93:9760...</td>\n",
       "      <td>#123456</td>\n",
       "    </tr>\n",
       "    <tr>\n",
       "      <th>1</th>\n",
       "      <td>1569159977</td>\n",
       "      <td>02002f0d3dd8caf7271e17a815c862826dfe98aa33c261...</td>\n",
       "      <td>Iron_Mountain_Exchange</td>\n",
       "      <td>[{'network': 'tcp', 'addr': 'okbwzrbgxiplzcbj6...</td>\n",
       "      <td>#000000</td>\n",
       "    </tr>\n",
       "    <tr>\n",
       "      <th>2</th>\n",
       "      <td>0</td>\n",
       "      <td>02004111b64ca4c268811f116112bf930b6f0fac452e28...</td>\n",
       "      <td></td>\n",
       "      <td>[]</td>\n",
       "      <td>#000000</td>\n",
       "    </tr>\n",
       "    <tr>\n",
       "      <th>3</th>\n",
       "      <td>1572938717</td>\n",
       "      <td>0200424bd89b5282c310e10a52fd783070556f947b54d9...</td>\n",
       "      <td>WHENBTC</td>\n",
       "      <td>[{'network': 'tcp', 'addr': '67.166.1.116:9735'}]</td>\n",
       "      <td>#3399ff</td>\n",
       "    </tr>\n",
       "    <tr>\n",
       "      <th>4</th>\n",
       "      <td>1575112618</td>\n",
       "      <td>02004c625d622245606a1ea2c1c69cfb4516b703b47945...</td>\n",
       "      <td>WalletOfSatoshi.com</td>\n",
       "      <td>[{'network': 'tcp', 'addr': '172.81.178.151:97...</td>\n",
       "      <td>#3399ff</td>\n",
       "    </tr>\n",
       "  </tbody>\n",
       "</table>\n",
       "</div>"
      ],
      "text/plain": [
       "   last_update                                            pub_key  \\\n",
       "0   1573030306  0200072fd301cb4a680f26d87c28b705ccd6a1d5b00f1b...   \n",
       "1   1569159977  02002f0d3dd8caf7271e17a815c862826dfe98aa33c261...   \n",
       "2            0  02004111b64ca4c268811f116112bf930b6f0fac452e28...   \n",
       "3   1572938717  0200424bd89b5282c310e10a52fd783070556f947b54d9...   \n",
       "4   1575112618  02004c625d622245606a1ea2c1c69cfb4516b703b47945...   \n",
       "\n",
       "                    alias                                          addresses  \\\n",
       "0             OutaSpace 🚀  [{'network': 'tcp', 'addr': '46.163.78.93:9760...   \n",
       "1  Iron_Mountain_Exchange  [{'network': 'tcp', 'addr': 'okbwzrbgxiplzcbj6...   \n",
       "2                                                                         []   \n",
       "3                 WHENBTC  [{'network': 'tcp', 'addr': '67.166.1.116:9735'}]   \n",
       "4     WalletOfSatoshi.com  [{'network': 'tcp', 'addr': '172.81.178.151:97...   \n",
       "\n",
       "     color  \n",
       "0  #123456  \n",
       "1  #000000  \n",
       "2  #000000  \n",
       "3  #3399ff  \n",
       "4  #3399ff  "
      ]
     },
     "execution_count": 2,
     "metadata": {},
     "output_type": "execute_result"
    }
   ],
   "source": [
    "df_nodes.head()"
   ]
  },
  {
   "cell_type": "code",
   "execution_count": 3,
   "metadata": {},
   "outputs": [
    {
     "data": {
      "text/html": [
       "<div>\n",
       "<style scoped>\n",
       "    .dataframe tbody tr th:only-of-type {\n",
       "        vertical-align: middle;\n",
       "    }\n",
       "\n",
       "    .dataframe tbody tr th {\n",
       "        vertical-align: top;\n",
       "    }\n",
       "\n",
       "    .dataframe thead th {\n",
       "        text-align: right;\n",
       "    }\n",
       "</style>\n",
       "<table border=\"1\" class=\"dataframe\">\n",
       "  <thead>\n",
       "    <tr style=\"text-align: right;\">\n",
       "      <th></th>\n",
       "      <th>channel_id</th>\n",
       "      <th>chan_point</th>\n",
       "      <th>last_update</th>\n",
       "      <th>node1_pub</th>\n",
       "      <th>node2_pub</th>\n",
       "      <th>capacity</th>\n",
       "      <th>node1_policy</th>\n",
       "      <th>node2_policy</th>\n",
       "      <th>node2_policy.time_lock_delta</th>\n",
       "      <th>node2_policy.min_htlc</th>\n",
       "      <th>...</th>\n",
       "      <th>node2_policy.disabled</th>\n",
       "      <th>node2_policy.max_htlc_msat</th>\n",
       "      <th>node2_policy.last_update</th>\n",
       "      <th>node1_policy.time_lock_delta</th>\n",
       "      <th>node1_policy.min_htlc</th>\n",
       "      <th>node1_policy.fee_base_msat</th>\n",
       "      <th>node1_policy.fee_rate_milli_msat</th>\n",
       "      <th>node1_policy.disabled</th>\n",
       "      <th>node1_policy.max_htlc_msat</th>\n",
       "      <th>node1_policy.last_update</th>\n",
       "    </tr>\n",
       "  </thead>\n",
       "  <tbody>\n",
       "    <tr>\n",
       "      <th>0</th>\n",
       "      <td>37200</td>\n",
       "      <td>ede04f9cfc1bb5373fd07d8af9c9b8b5a85cfe5e323b77...</td>\n",
       "      <td>0</td>\n",
       "      <td>03bd3466efd4a7306b539e2314e69efc6b1eaee29734fc...</td>\n",
       "      <td>03c3d14714b78f03fd6ea4997c2b540a4139258249ea1d...</td>\n",
       "      <td>37200</td>\n",
       "      <td>NaN</td>\n",
       "      <td>NaN</td>\n",
       "      <td>NaN</td>\n",
       "      <td>NaN</td>\n",
       "      <td>...</td>\n",
       "      <td>NaN</td>\n",
       "      <td>NaN</td>\n",
       "      <td>NaN</td>\n",
       "      <td>NaN</td>\n",
       "      <td>NaN</td>\n",
       "      <td>NaN</td>\n",
       "      <td>NaN</td>\n",
       "      <td>NaN</td>\n",
       "      <td>NaN</td>\n",
       "      <td>NaN</td>\n",
       "    </tr>\n",
       "    <tr>\n",
       "      <th>1</th>\n",
       "      <td>1000000</td>\n",
       "      <td>cfd0ae79fc150c2c3c4068ceca74bc26652bb269162437...</td>\n",
       "      <td>0</td>\n",
       "      <td>02eccebd9ed98f6d267080a58194dbe554a2b33d976eb9...</td>\n",
       "      <td>02ee4469f2b686d5d02422917ac199602ce4c366a7bfaa...</td>\n",
       "      <td>1000000</td>\n",
       "      <td>NaN</td>\n",
       "      <td>NaN</td>\n",
       "      <td>NaN</td>\n",
       "      <td>NaN</td>\n",
       "      <td>...</td>\n",
       "      <td>NaN</td>\n",
       "      <td>NaN</td>\n",
       "      <td>NaN</td>\n",
       "      <td>NaN</td>\n",
       "      <td>NaN</td>\n",
       "      <td>NaN</td>\n",
       "      <td>NaN</td>\n",
       "      <td>NaN</td>\n",
       "      <td>NaN</td>\n",
       "      <td>NaN</td>\n",
       "    </tr>\n",
       "    <tr>\n",
       "      <th>2</th>\n",
       "      <td>1000000</td>\n",
       "      <td>c0a8d3428f562c232d86be399eb4497934e7e0390fa79e...</td>\n",
       "      <td>0</td>\n",
       "      <td>02eccebd9ed98f6d267080a58194dbe554a2b33d976eb9...</td>\n",
       "      <td>02ee4469f2b686d5d02422917ac199602ce4c366a7bfaa...</td>\n",
       "      <td>1000000</td>\n",
       "      <td>NaN</td>\n",
       "      <td>NaN</td>\n",
       "      <td>NaN</td>\n",
       "      <td>NaN</td>\n",
       "      <td>...</td>\n",
       "      <td>NaN</td>\n",
       "      <td>NaN</td>\n",
       "      <td>NaN</td>\n",
       "      <td>NaN</td>\n",
       "      <td>NaN</td>\n",
       "      <td>NaN</td>\n",
       "      <td>NaN</td>\n",
       "      <td>NaN</td>\n",
       "      <td>NaN</td>\n",
       "      <td>NaN</td>\n",
       "    </tr>\n",
       "    <tr>\n",
       "      <th>3</th>\n",
       "      <td>200000</td>\n",
       "      <td>06bbac25ed610feb1d07316d1be8b8ba6850ee1dd96cc1...</td>\n",
       "      <td>0</td>\n",
       "      <td>03bd3466efd4a7306b539e2314e69efc6b1eaee29734fc...</td>\n",
       "      <td>03cbf298b068300be33f06c947b9d3f00a0f0e8089da32...</td>\n",
       "      <td>200000</td>\n",
       "      <td>NaN</td>\n",
       "      <td>NaN</td>\n",
       "      <td>NaN</td>\n",
       "      <td>NaN</td>\n",
       "      <td>...</td>\n",
       "      <td>NaN</td>\n",
       "      <td>NaN</td>\n",
       "      <td>NaN</td>\n",
       "      <td>NaN</td>\n",
       "      <td>NaN</td>\n",
       "      <td>NaN</td>\n",
       "      <td>NaN</td>\n",
       "      <td>NaN</td>\n",
       "      <td>NaN</td>\n",
       "      <td>NaN</td>\n",
       "    </tr>\n",
       "    <tr>\n",
       "      <th>4</th>\n",
       "      <td>2000000</td>\n",
       "      <td>2392c45431c064269e4eaeccb0476ac32e56485d84e104...</td>\n",
       "      <td>0</td>\n",
       "      <td>022e74ed3ddd3f590fd6492e60b20dcad7303f17e1ffd8...</td>\n",
       "      <td>02ee4469f2b686d5d02422917ac199602ce4c366a7bfaa...</td>\n",
       "      <td>2000000</td>\n",
       "      <td>NaN</td>\n",
       "      <td>NaN</td>\n",
       "      <td>NaN</td>\n",
       "      <td>NaN</td>\n",
       "      <td>...</td>\n",
       "      <td>NaN</td>\n",
       "      <td>NaN</td>\n",
       "      <td>NaN</td>\n",
       "      <td>NaN</td>\n",
       "      <td>NaN</td>\n",
       "      <td>NaN</td>\n",
       "      <td>NaN</td>\n",
       "      <td>NaN</td>\n",
       "      <td>NaN</td>\n",
       "      <td>NaN</td>\n",
       "    </tr>\n",
       "  </tbody>\n",
       "</table>\n",
       "<p>5 rows × 22 columns</p>\n",
       "</div>"
      ],
      "text/plain": [
       "   channel_id                                         chan_point  last_update  \\\n",
       "0       37200  ede04f9cfc1bb5373fd07d8af9c9b8b5a85cfe5e323b77...            0   \n",
       "1     1000000  cfd0ae79fc150c2c3c4068ceca74bc26652bb269162437...            0   \n",
       "2     1000000  c0a8d3428f562c232d86be399eb4497934e7e0390fa79e...            0   \n",
       "3      200000  06bbac25ed610feb1d07316d1be8b8ba6850ee1dd96cc1...            0   \n",
       "4     2000000  2392c45431c064269e4eaeccb0476ac32e56485d84e104...            0   \n",
       "\n",
       "                                           node1_pub  \\\n",
       "0  03bd3466efd4a7306b539e2314e69efc6b1eaee29734fc...   \n",
       "1  02eccebd9ed98f6d267080a58194dbe554a2b33d976eb9...   \n",
       "2  02eccebd9ed98f6d267080a58194dbe554a2b33d976eb9...   \n",
       "3  03bd3466efd4a7306b539e2314e69efc6b1eaee29734fc...   \n",
       "4  022e74ed3ddd3f590fd6492e60b20dcad7303f17e1ffd8...   \n",
       "\n",
       "                                           node2_pub  capacity  node1_policy  \\\n",
       "0  03c3d14714b78f03fd6ea4997c2b540a4139258249ea1d...     37200           NaN   \n",
       "1  02ee4469f2b686d5d02422917ac199602ce4c366a7bfaa...   1000000           NaN   \n",
       "2  02ee4469f2b686d5d02422917ac199602ce4c366a7bfaa...   1000000           NaN   \n",
       "3  03cbf298b068300be33f06c947b9d3f00a0f0e8089da32...    200000           NaN   \n",
       "4  02ee4469f2b686d5d02422917ac199602ce4c366a7bfaa...   2000000           NaN   \n",
       "\n",
       "   node2_policy  node2_policy.time_lock_delta node2_policy.min_htlc  ...  \\\n",
       "0           NaN                           NaN                   NaN  ...   \n",
       "1           NaN                           NaN                   NaN  ...   \n",
       "2           NaN                           NaN                   NaN  ...   \n",
       "3           NaN                           NaN                   NaN  ...   \n",
       "4           NaN                           NaN                   NaN  ...   \n",
       "\n",
       "  node2_policy.disabled node2_policy.max_htlc_msat node2_policy.last_update  \\\n",
       "0                   NaN                        NaN                      NaN   \n",
       "1                   NaN                        NaN                      NaN   \n",
       "2                   NaN                        NaN                      NaN   \n",
       "3                   NaN                        NaN                      NaN   \n",
       "4                   NaN                        NaN                      NaN   \n",
       "\n",
       "  node1_policy.time_lock_delta  node1_policy.min_htlc  \\\n",
       "0                          NaN                    NaN   \n",
       "1                          NaN                    NaN   \n",
       "2                          NaN                    NaN   \n",
       "3                          NaN                    NaN   \n",
       "4                          NaN                    NaN   \n",
       "\n",
       "   node1_policy.fee_base_msat node1_policy.fee_rate_milli_msat  \\\n",
       "0                         NaN                              NaN   \n",
       "1                         NaN                              NaN   \n",
       "2                         NaN                              NaN   \n",
       "3                         NaN                              NaN   \n",
       "4                         NaN                              NaN   \n",
       "\n",
       "  node1_policy.disabled node1_policy.max_htlc_msat node1_policy.last_update  \n",
       "0                   NaN                        NaN                      NaN  \n",
       "1                   NaN                        NaN                      NaN  \n",
       "2                   NaN                        NaN                      NaN  \n",
       "3                   NaN                        NaN                      NaN  \n",
       "4                   NaN                        NaN                      NaN  \n",
       "\n",
       "[5 rows x 22 columns]"
      ]
     },
     "execution_count": 3,
     "metadata": {},
     "output_type": "execute_result"
    }
   ],
   "source": [
    "df_channels.head()"
   ]
  },
  {
   "cell_type": "markdown",
   "metadata": {},
   "source": [
    "# Convert LN JSON graph data to NetworkX graph"
   ]
  },
  {
   "cell_type": "code",
   "execution_count": 4,
   "metadata": {},
   "outputs": [],
   "source": [
    "import networkx as nx\n",
    "import json\n",
    "\n",
    "def convert_ln_json_to_nx_graph(json_file_path):\n",
    "\n",
    "    # Read JSON data\n",
    "    graph_path = open(json_file_path)\n",
    "    graph_json = json.load(graph_path)\n",
    "    \n",
    "    # Create an empty graph\n",
    "    G = nx.Graph()\n",
    "    \n",
    "    # Parse and add nodes\n",
    "    for node in graph_json['nodes']:\n",
    "        G.add_node(\n",
    "            node['pub_key'], \n",
    "            alias=node['alias'], \n",
    "            addresses=node['addresses'], \n",
    "            color=node['color'], \n",
    "            last_update=['last_update']\n",
    "        )\n",
    "        \n",
    "    # Parse and add edges\n",
    "    for edge in graph_json['edges']:\n",
    "        G.add_edge(\n",
    "            edge['node1_pub'],\n",
    "            edge['node2_pub'],\n",
    "            channel_id=edge['channel_id'],\n",
    "            chan_point=edge['chan_point'],\n",
    "            last_update=edge['last_update'],\n",
    "            capacity=edge['capacity'],\n",
    "            node1_policy=edge['node1_policy'],\n",
    "            node2_policy=edge['node2_policy']\n",
    "        )\n",
    "        \n",
    "    return G\n",
    "\n",
    "lngraph_path = 'lngraph.json'\n",
    "nxgraph = convert_ln_json_to_nx_graph(lngraph_path)"
   ]
  },
  {
   "cell_type": "code",
   "execution_count": 5,
   "metadata": {},
   "outputs": [
    {
     "data": {
      "text/plain": [
       "6251"
      ]
     },
     "execution_count": 5,
     "metadata": {},
     "output_type": "execute_result"
    }
   ],
   "source": [
    "nx.number_of_nodes(nxgraph)"
   ]
  },
  {
   "cell_type": "code",
   "execution_count": 6,
   "metadata": {},
   "outputs": [
    {
     "data": {
      "text/plain": [
       "32079"
      ]
     },
     "execution_count": 6,
     "metadata": {},
     "output_type": "execute_result"
    }
   ],
   "source": [
    "nx.number_of_edges(nxgraph)"
   ]
  },
  {
   "cell_type": "markdown",
   "metadata": {},
   "source": [
    "# Convert LN JSON graph data to Graph-Tool graph"
   ]
  },
  {
   "cell_type": "code",
   "execution_count": 7,
   "metadata": {},
   "outputs": [],
   "source": [
    "from graph_tool.all import *\n",
    "import graph_tool as gt\n",
    "\n",
    "def convert_ln_json_to_gt_graph(json_file_path, internal_properties=True, directed=False):\n",
    "\n",
    "    # Read JSON data\n",
    "    graph_path = open(json_file_path)\n",
    "    graph_json = json.load(graph_path)\n",
    "    \n",
    "    # We start with an empty, directed graph\n",
    "    g = gt.Graph(directed=directed)\n",
    "\n",
    "    # Adding the node properties\n",
    "    v_pub_key = g.new_vertex_property(\"string\")\n",
    "    v_last_update = g.new_vertex_property(\"int\")\n",
    "    v_alias = g.new_vertex_property(\"string\")\n",
    "    v_addresses = g.new_vertex_property(\"string\")\n",
    "    v_color = g.new_vertex_property(\"string\")\n",
    "\n",
    "    # Adding the edge properties\n",
    "    e_channel_id = g.new_edge_property(\"object\")\n",
    "    e_chan_point = g.new_edge_property(\"object\")\n",
    "    e_last_update = g.new_edge_property(\"int\")\n",
    "    e_capacity = g.new_edge_property(\"object\")\n",
    "    e_node1_pub = g.new_edge_property(\"object\")\n",
    "    e_node2_pub = g.new_edge_property(\"object\")\n",
    "    e_node1_policy = g.new_edge_property(\"object\")\n",
    "    e_node2_policy = g.new_edge_property(\"object\")\n",
    "\n",
    "    # Create dictionary of pub_key:index pairs to keep track of vertices to generate edges\n",
    "    v_indeces = {}\n",
    "    \n",
    "    # Let's now add the new vertices and edges\n",
    "    for node in graph_json['nodes']:\n",
    "        v = g.add_vertex()\n",
    "        v_pub_key[v] = node['pub_key']\n",
    "        v_alias[v] = node['alias']\n",
    "        v_addresses[v] = node['addresses']\n",
    "        v_color[v] = node['color']\n",
    "        v_last_update[v] = node['last_update']\n",
    "        v_indeces[node['pub_key']] = g.vertex_index[v]\n",
    "\n",
    "    for edge in graph_json['edges']:\n",
    "        v_index = v_indeces[edge['node1_pub']]\n",
    "        target_index = v_indeces[edge['node2_pub']]\n",
    "        \n",
    "        v = g.vertex(v_index)\n",
    "        target = g.vertex(target_index)\n",
    "        e = g.add_edge(v, target)\n",
    "\n",
    "        e_channel_id[e] = edge['channel_id']\n",
    "        e_chan_point[e] = edge['chan_point']\n",
    "        e_last_update[e] = edge['last_update']\n",
    "        e_capacity[e] = edge['capacity']\n",
    "        e_node1_pub[e] = edge['node1_pub']\n",
    "        e_node2_pub[e] = edge['node2_pub']\n",
    "        e_node1_policy[e] = edge['node1_policy']\n",
    "        e_node2_policy[e] = edge['node2_policy']\n",
    "                             \n",
    "    # Making the vertex and edge properties internal (to be able to save them with the graph)\n",
    "    if internal_properties:\n",
    "        g.vertex_properties['pub_key'] = v_pub_key\n",
    "        g.vertex_properties['alias'] = v_alias\n",
    "        g.vertex_properties['addresses'] = v_addresses\n",
    "        g.vertex_properties['color'] = v_color\n",
    "        g.vertex_properties['last_update'] = v_last_update\n",
    "                             \n",
    "        g.edge_properties['channel_id'] = e_channel_id\n",
    "        g.edge_properties['chan_point'] = e_chan_point\n",
    "        g.edge_properties['last_update'] = e_last_update\n",
    "        g.edge_properties['node1_pub'] = e_node1_pub\n",
    "        g.edge_properties['node2_pub'] = e_node2_pub\n",
    "        g.edge_properties['node1_policy'] = e_node1_policy\n",
    "        g.edge_properties['node2_policy'] = e_node2_policy\n",
    "                             \n",
    "    return g\n",
    "\n",
    "lngraph_path = 'lngraph.json'\n",
    "gtgraph = convert_ln_json_to_gt_graph(lngraph_path)"
   ]
  },
  {
   "cell_type": "code",
   "execution_count": 8,
   "metadata": {},
   "outputs": [
    {
     "data": {
      "text/plain": [
       "<Graph object, undirected, with 6251 vertices and 35457 edges at 0x163762a90>"
      ]
     },
     "execution_count": 8,
     "metadata": {},
     "output_type": "execute_result"
    }
   ],
   "source": [
    "gtgraph"
   ]
  },
  {
   "cell_type": "markdown",
   "metadata": {},
   "source": [
    "# Function to compute the average and quartile values of a metric"
   ]
  },
  {
   "cell_type": "code",
   "execution_count": 9,
   "metadata": {},
   "outputs": [],
   "source": [
    "import numpy as np\n",
    "\n",
    "def get_basic_stats(values, column_label):\n",
    "    \n",
    "    average = values.mean()\n",
    "    percentiles = np.percentile(values, [90, 50, 10])\n",
    "\n",
    "    print('Statistics for {}: '.format(column_label))\n",
    "    print('Average: {} \\nPercentiles: \\n 90th Percentile: {} \\n 50th Percentile: {} \\n 10th Percentile: {} \\n'.format(\n",
    "        average, percentiles[0], percentiles[1], percentiles[2]\n",
    "    ))\n",
    "    \n",
    "    return average, percentiles"
   ]
  },
  {
   "cell_type": "markdown",
   "metadata": {},
   "source": [
    "# Nodes (dataframe)\n",
    "\n",
    "* Number of nodes, with/without channels\n",
    "* Channels per node\n",
    "* Capacity per node"
   ]
  },
  {
   "cell_type": "code",
   "execution_count": 10,
   "metadata": {},
   "outputs": [],
   "source": [
    "def add_node_chan_info(df_nodes, df_channels):\n",
    "    df_nodes = pd.concat([\n",
    "        df_nodes,\n",
    "        pd.DataFrame(columns=[\n",
    "                'num_enabled_channels',\n",
    "                'num_channels',\n",
    "                'percent_enabled_chan',\n",
    "                'total_node_capacity'\n",
    "        ])\n",
    "    ], sort=False)\n",
    "\n",
    "    for index, node in df_nodes.iterrows():\n",
    "\n",
    "        pub_key = node['pub_key']\n",
    "        node_channels = df_channels[df_channels.node1_pub == pub_key]\n",
    "\n",
    "        enabled_channels = 0\n",
    "        total_capacity = 0\n",
    "\n",
    "        for _, channel in node_channels.iterrows():\n",
    "            total_capacity += channel.capacity\n",
    "            disabled = channel.loc['node1_policy.disabled']\n",
    "\n",
    "            if disabled is not None and not disabled:\n",
    "                enabled_channels += 1\n",
    "\n",
    "        df_nodes.loc[index, 'num_enabled_channels'] = enabled_channels\n",
    "        df_nodes.loc[index, 'num_channels'] = node_channels.shape[0]\n",
    "        if node_channels.shape[0] > 0: df_nodes.loc[index, 'percent_enabled_chan'] = enabled_channels/node_channels.shape[0]\n",
    "        df_nodes.loc[index, 'total_node_capacity'] = total_capacity\n",
    "\n",
    "    return df_nodes"
   ]
  },
  {
   "cell_type": "code",
   "execution_count": 11,
   "metadata": {},
   "outputs": [
    {
     "data": {
      "text/html": [
       "<div>\n",
       "<style scoped>\n",
       "    .dataframe tbody tr th:only-of-type {\n",
       "        vertical-align: middle;\n",
       "    }\n",
       "\n",
       "    .dataframe tbody tr th {\n",
       "        vertical-align: top;\n",
       "    }\n",
       "\n",
       "    .dataframe thead th {\n",
       "        text-align: right;\n",
       "    }\n",
       "</style>\n",
       "<table border=\"1\" class=\"dataframe\">\n",
       "  <thead>\n",
       "    <tr style=\"text-align: right;\">\n",
       "      <th></th>\n",
       "      <th>last_update</th>\n",
       "      <th>pub_key</th>\n",
       "      <th>alias</th>\n",
       "      <th>addresses</th>\n",
       "      <th>color</th>\n",
       "      <th>num_enabled_channels</th>\n",
       "      <th>num_channels</th>\n",
       "      <th>percent_enabled_chan</th>\n",
       "      <th>total_node_capacity</th>\n",
       "    </tr>\n",
       "  </thead>\n",
       "  <tbody>\n",
       "    <tr>\n",
       "      <th>0</th>\n",
       "      <td>1.573030e+09</td>\n",
       "      <td>0200072fd301cb4a680f26d87c28b705ccd6a1d5b00f1b...</td>\n",
       "      <td>OutaSpace 🚀</td>\n",
       "      <td>[{'network': 'tcp', 'addr': '46.163.78.93:9760...</td>\n",
       "      <td>#123456</td>\n",
       "      <td>0</td>\n",
       "      <td>9</td>\n",
       "      <td>0</td>\n",
       "      <td>6600000</td>\n",
       "    </tr>\n",
       "    <tr>\n",
       "      <th>1</th>\n",
       "      <td>1.569160e+09</td>\n",
       "      <td>02002f0d3dd8caf7271e17a815c862826dfe98aa33c261...</td>\n",
       "      <td>Iron_Mountain_Exchange</td>\n",
       "      <td>[{'network': 'tcp', 'addr': 'okbwzrbgxiplzcbj6...</td>\n",
       "      <td>#000000</td>\n",
       "      <td>1</td>\n",
       "      <td>1</td>\n",
       "      <td>1</td>\n",
       "      <td>8000000</td>\n",
       "    </tr>\n",
       "    <tr>\n",
       "      <th>2</th>\n",
       "      <td>0.000000e+00</td>\n",
       "      <td>02004111b64ca4c268811f116112bf930b6f0fac452e28...</td>\n",
       "      <td></td>\n",
       "      <td>[]</td>\n",
       "      <td>#000000</td>\n",
       "      <td>0</td>\n",
       "      <td>1</td>\n",
       "      <td>0</td>\n",
       "      <td>50000</td>\n",
       "    </tr>\n",
       "    <tr>\n",
       "      <th>3</th>\n",
       "      <td>1.572939e+09</td>\n",
       "      <td>0200424bd89b5282c310e10a52fd783070556f947b54d9...</td>\n",
       "      <td>WHENBTC</td>\n",
       "      <td>[{'network': 'tcp', 'addr': '67.166.1.116:9735'}]</td>\n",
       "      <td>#3399ff</td>\n",
       "      <td>18</td>\n",
       "      <td>20</td>\n",
       "      <td>0.9</td>\n",
       "      <td>40678240</td>\n",
       "    </tr>\n",
       "    <tr>\n",
       "      <th>4</th>\n",
       "      <td>1.575113e+09</td>\n",
       "      <td>02004c625d622245606a1ea2c1c69cfb4516b703b47945...</td>\n",
       "      <td>WalletOfSatoshi.com</td>\n",
       "      <td>[{'network': 'tcp', 'addr': '172.81.178.151:97...</td>\n",
       "      <td>#3399ff</td>\n",
       "      <td>164</td>\n",
       "      <td>214</td>\n",
       "      <td>0.766355</td>\n",
       "      <td>954797898</td>\n",
       "    </tr>\n",
       "  </tbody>\n",
       "</table>\n",
       "</div>"
      ],
      "text/plain": [
       "    last_update                                            pub_key  \\\n",
       "0  1.573030e+09  0200072fd301cb4a680f26d87c28b705ccd6a1d5b00f1b...   \n",
       "1  1.569160e+09  02002f0d3dd8caf7271e17a815c862826dfe98aa33c261...   \n",
       "2  0.000000e+00  02004111b64ca4c268811f116112bf930b6f0fac452e28...   \n",
       "3  1.572939e+09  0200424bd89b5282c310e10a52fd783070556f947b54d9...   \n",
       "4  1.575113e+09  02004c625d622245606a1ea2c1c69cfb4516b703b47945...   \n",
       "\n",
       "                    alias                                          addresses  \\\n",
       "0             OutaSpace 🚀  [{'network': 'tcp', 'addr': '46.163.78.93:9760...   \n",
       "1  Iron_Mountain_Exchange  [{'network': 'tcp', 'addr': 'okbwzrbgxiplzcbj6...   \n",
       "2                                                                         []   \n",
       "3                 WHENBTC  [{'network': 'tcp', 'addr': '67.166.1.116:9735'}]   \n",
       "4     WalletOfSatoshi.com  [{'network': 'tcp', 'addr': '172.81.178.151:97...   \n",
       "\n",
       "     color  num_enabled_channels  num_channels percent_enabled_chan  \\\n",
       "0  #123456                     0             9                    0   \n",
       "1  #000000                     1             1                    1   \n",
       "2  #000000                     0             1                    0   \n",
       "3  #3399ff                    18            20                  0.9   \n",
       "4  #3399ff                   164           214             0.766355   \n",
       "\n",
       "   total_node_capacity  \n",
       "0              6600000  \n",
       "1              8000000  \n",
       "2                50000  \n",
       "3             40678240  \n",
       "4            954797898  "
      ]
     },
     "execution_count": 11,
     "metadata": {},
     "output_type": "execute_result"
    }
   ],
   "source": [
    "df_nodes = add_node_chan_info(df_nodes, df_channels)\n",
    "df_nodes.head()"
   ]
  },
  {
   "cell_type": "code",
   "execution_count": 12,
   "metadata": {},
   "outputs": [
    {
     "name": "stdout",
     "output_type": "stream",
     "text": [
      "Number of nodes 4500 \n",
      " with channels: 1751 \n",
      " without channels 6251 \n",
      "\n",
      "Statistics for node channels (with inactive): \n",
      "Average: 5.672212446008639 \n",
      "Percentiles: \n",
      " 90th Percentile: 10.0 \n",
      " 50th Percentile: 1.0 \n",
      " 10th Percentile: 0.0 \n",
      "\n",
      "Statistics for node channels (without inactive): \n",
      "Average: 10.12246835443038 \n",
      "Percentiles: \n",
      " 90th Percentile: 18.0 \n",
      " 50th Percentile: 3.0 \n",
      " 10th Percentile: 1.0 \n",
      "\n",
      "Statistics for node capacities (with inactive): \n",
      "Average: 13359987.889137737 \n",
      "Percentiles: \n",
      " 90th Percentile: 15329369.0 \n",
      " 50th Percentile: 200000.0 \n",
      " 10th Percentile: 0.0 \n",
      "\n",
      "Statistics for node capacities (without inactive): \n",
      "Average: 26064984.527848102 \n",
      "Percentiles: \n",
      " 90th Percentile: 34688527.3 \n",
      " 50th Percentile: 1926551.0 \n",
      " 10th Percentile: 100000.0 \n",
      "\n"
     ]
    }
   ],
   "source": [
    "# Number of nodes with/without channels\n",
    "cnt_nodes_with_channels = df_nodes[df_nodes.num_channels != 0].shape[0]\n",
    "cnt_nodes_without_channels = df_nodes[df_nodes.num_channels == 0].shape[0]\n",
    "total_cnt_nodes = cnt_nodes_with_channels+cnt_nodes_without_channels\n",
    "\n",
    "print('Number of nodes {} \\n with channels: {} \\n without channels {} \\n'\n",
    "      .format(cnt_nodes_with_channels, cnt_nodes_without_channels, total_cnt_nodes)\n",
    "    )\n",
    "\n",
    "# Statistics for channels per node\n",
    "# Including inactive nodes (nodes with no channels)\n",
    "values = df_nodes.num_channels.values\n",
    "average, percentiles = get_basic_stats(values, 'node channels (with inactive)')\n",
    "\n",
    "# Without inactive nodes\n",
    "values = df_nodes.loc[df_nodes.num_enabled_channels != 0, 'num_channels'].values\n",
    "average, percentiles = get_basic_stats(values, 'node channels (without inactive)')\n",
    "\n",
    "# Statistics for capacity per node\n",
    "# Including inactive nodes (nodes with no channels)\n",
    "values = df_nodes.total_node_capacity.values\n",
    "average, percentiles = get_basic_stats(values, 'node capacities (with inactive)')\n",
    "\n",
    "# Without inactive nodes\n",
    "values = df_nodes.loc[df_nodes.num_enabled_channels != 0, 'total_node_capacity'].values\n",
    "average, percentiles = get_basic_stats(values, 'node capacities (without inactive)')"
   ]
  },
  {
   "cell_type": "markdown",
   "metadata": {},
   "source": [
    "# Channels"
   ]
  },
  {
   "cell_type": "code",
   "execution_count": 13,
   "metadata": {},
   "outputs": [
    {
     "name": "stdout",
     "output_type": "stream",
     "text": [
      "Total number of channels: 35457 \n",
      " unique: 32079 \n",
      " duplicate: 3378\n"
     ]
    }
   ],
   "source": [
    "total_num_channels = df_channels.shape[0]\n",
    "\n",
    "unique_channels = df_channels.drop_duplicates(subset=['node1_pub', 'node2_pub'])\n",
    "num_unique_channels = unique_channels.shape[0]\n",
    "num_duplicate_channels = total_num_channels - unique_channels.shape[0]\n",
    "\n",
    "print('Total number of channels: {} \\n unique: {} \\n duplicate: {}'.format(total_num_channels, num_unique_channels, num_duplicate_channels))"
   ]
  },
  {
   "cell_type": "markdown",
   "metadata": {},
   "source": [
    "# Network Capacity"
   ]
  },
  {
   "cell_type": "code",
   "execution_count": 14,
   "metadata": {},
   "outputs": [
    {
     "name": "stdout",
     "output_type": "stream",
     "text": [
      "835.13284295\n"
     ]
    }
   ],
   "source": [
    "capacity = df_channels.capacity.sum()\n",
    "print(capacity/100000000)"
   ]
  },
  {
   "cell_type": "markdown",
   "metadata": {},
   "source": [
    "# Capacity Per Channel"
   ]
  },
  {
   "cell_type": "code",
   "execution_count": 15,
   "metadata": {},
   "outputs": [
    {
     "name": "stdout",
     "output_type": "stream",
     "text": [
      "Statistics for capacity per channel: \n",
      "Average: 2355339.828383676 \n",
      "Percentiles: \n",
      " 90th Percentile: 8000000.0 \n",
      " 50th Percentile: 500000.0 \n",
      " 10th Percentile: 27207.4 \n",
      "\n"
     ]
    }
   ],
   "source": [
    "values = df_channels.capacity.values\n",
    "average, percentiles = get_basic_stats(values, 'capacity per channel')"
   ]
  },
  {
   "cell_type": "markdown",
   "metadata": {},
   "source": [
    "# Distance Measures"
   ]
  },
  {
   "cell_type": "code",
   "execution_count": 16,
   "metadata": {},
   "outputs": [
    {
     "name": "stdout",
     "output_type": "stream",
     "text": [
      "Number of vertices: 6176 \n",
      " Number of edges: 35415 \n",
      "\n",
      "Number of vertices: 6176 \n",
      " Number of edges: 32038 \n",
      "\n"
     ]
    }
   ],
   "source": [
    "# Keep largest connected component\n",
    "l = gt.topology.label_largest_component(gtgraph, directed=False)\n",
    "gtgraph.set_vertex_filter(l)\n",
    "print('Number of vertices: {} \\n Number of edges: {} \\n'.format(gtgraph.num_vertices(), gtgraph.num_edges()))\n",
    "\n",
    "# Remove self-loops (ie: duplicate edges)\n",
    "gt.stats.remove_parallel_edges(gtgraph)\n",
    "print('Number of vertices: {} \\n Number of edges: {} \\n'.format(gtgraph.num_vertices(), gtgraph.num_edges()))"
   ]
  },
  {
   "cell_type": "code",
   "execution_count": 17,
   "metadata": {},
   "outputs": [],
   "source": [
    "def get_distance_measures(graph, directed=False, pseudo_diameter=False, return_dist=False):\n",
    "\n",
    "    # Compute shortest paths from all vertices to all vertices and save results in a dataframe\n",
    "    dist_map = shortest_distance(graph, directed)\n",
    "    shortest_paths = pd.DataFrame(dist_map)\n",
    "\n",
    "    # Average distance\n",
    "    average = shortest_paths.replace(0, np.nan).mean(skipna=True).mean()\n",
    "    print('Average shortest distance: {}'.format(round(average, 2)))\n",
    "\n",
    "    # Diameter of the graph: length of the longest shortest path in the graph\n",
    "    if pseudo_diameter:\n",
    "        diameter, _ = gt.topology.pseudo_diameter(graph)\n",
    "        print('Diameter: {}'.format(pseudo_diameter))\n",
    "    else: \n",
    "        diameter = shortest_paths.values.max()\n",
    "        print('Pseudo-diameter: {}'.format(diameter))\n",
    "\n",
    "    # Radius of the graph: smallest of largest shortest path of\n",
    "    radius = shortest_paths.replace(0, np.nan).max(skipna=True).min()\n",
    "    print('Radius: {}'.format(radius))\n",
    "\n",
    "    if return_dist:\n",
    "        return shortest_paths, average, diameter, radius\n",
    "\n",
    "    return average, diameter, radius"
   ]
  },
  {
   "cell_type": "code",
   "execution_count": 18,
   "metadata": {},
   "outputs": [
    {
     "name": "stdout",
     "output_type": "stream",
     "text": [
      "Average shortest distance: 3.22\n",
      "Pseudo-diameter: 8\n",
      "Radius: 8.0\n"
     ]
    },
    {
     "data": {
      "text/plain": [
       "(3.223157894736842, 8, 8.0)"
      ]
     },
     "execution_count": 18,
     "metadata": {},
     "output_type": "execute_result"
    }
   ],
   "source": [
    "get_distance_measures(gtgraph)"
   ]
  },
  {
   "cell_type": "markdown",
   "metadata": {},
   "source": [
    "# Completeness Measures"
   ]
  },
  {
   "cell_type": "code",
   "execution_count": 19,
   "metadata": {},
   "outputs": [
    {
     "name": "stdout",
     "output_type": "stream",
     "text": [
      "0.0016421820508718606\n"
     ]
    }
   ],
   "source": [
    "# Completeness measure: density of the graph\n",
    "# The max number of channels (or edges) in the network is n*(n-1)/2, where n is the number of nodes (or vertices).\n",
    "max_num_channels = (total_cnt_nodes*(total_cnt_nodes-1))/2\n",
    "completeness = num_unique_channels/max_num_channels\n",
    "print(completeness)"
   ]
  },
  {
   "cell_type": "markdown",
   "metadata": {},
   "source": [
    "# Clustering Measures"
   ]
  },
  {
   "cell_type": "code",
   "execution_count": 20,
   "metadata": {},
   "outputs": [
    {
     "name": "stdout",
     "output_type": "stream",
     "text": [
      "Graph transitivity: 0.067\n",
      "\n",
      "Statistics for node transitivities: \n",
      "Average: 0.22932388757423353 \n",
      "Percentiles: \n",
      " 90th Percentile: 0.6666666666666666 \n",
      " 50th Percentile: 0.1 \n",
      " 10th Percentile: 0.0 \n",
      "\n"
     ]
    },
    {
     "data": {
      "text/plain": [
       "(PropertyArray(0.22932389), array([0.66666667, 0.1       , 0.        ]))"
      ]
     },
     "execution_count": 20,
     "metadata": {},
     "output_type": "execute_result"
    }
   ],
   "source": [
    "# Transitivity is the ratio of potential triangles present.\n",
    "# A value of 1 means every path of length 2 loops back into a triangle.\n",
    "transitivity, sd = gt.clustering.global_clustering(gtgraph)\n",
    "print('Graph transitivity: {}\\n'.format(round(transitivity,3)))\n",
    "\n",
    "# Clustering coefficient is the ratio of interconnections between a node's peers. \n",
    "# A value of 0 means the node is a hub, and none of its peers are connected. A value of 1 means the node forms a clique with its peers.\n",
    "transitivities = gt.clustering.local_clustering(gtgraph).a\n",
    "get_basic_stats(transitivities, 'node transitivities')"
   ]
  },
  {
   "cell_type": "markdown",
   "metadata": {},
   "source": [
    "# Connectivity Measures"
   ]
  },
  {
   "cell_type": "code",
   "execution_count": 30,
   "metadata": {},
   "outputs": [
    {
     "name": "stdout",
     "output_type": "stream",
     "text": [
      "Percent of cut vertices: 0.018\n",
      "Percent of cut edges: 0.06\n"
     ]
    }
   ],
   "source": [
    "# Percent of cut vertices\n",
    "_, art, _ = gt.topology.label_biconnected_components(gtgraph)\n",
    "cnt_cut_vertices = art.a.sum()\n",
    "percent_cut_vertices = art.a.sum()/gtgraph.num_edges()\n",
    "print('Percent of cut vertices: {}'.format(round(float(percent_cut_vertices),3)))\n",
    "\n",
    "# Percent of cut edges\n",
    "bridges = list(nx.bridges(nxgraph))\n",
    "perc_cut_edges = len(bridges)/gtgraph.num_edges()\n",
    "print('Percent of cut edges: {}'.format(round(perc_cut_edges,2)))"
   ]
  }
 ],
 "metadata": {
  "kernelspec": {
   "display_name": "Python 3",
   "language": "python",
   "name": "python3"
  },
  "language_info": {
   "codemirror_mode": {
    "name": "ipython",
    "version": 3
   },
   "file_extension": ".py",
   "mimetype": "text/x-python",
   "name": "python",
   "nbconvert_exporter": "python",
   "pygments_lexer": "ipython3",
   "version": "3.7.5"
  }
 },
 "nbformat": 4,
 "nbformat_minor": 4
}
